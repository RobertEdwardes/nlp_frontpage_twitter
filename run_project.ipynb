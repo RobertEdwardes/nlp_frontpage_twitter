{
    "metadata": {
        "kernelspec": {
            "name": "python3",
            "display_name": "Python 3 (ipykernel)",
            "language": "python"
        },
        "language_info": {
            "name": "python",
            "version": "3.8.10",
            "mimetype": "text/x-python",
            "codemirror_mode": {
                "name": "ipython",
                "version": 3
            },
            "pygments_lexer": "ipython3",
            "nbconvert_exporter": "python",
            "file_extension": ".py"
        }
    },
    "nbformat_minor": 2,
    "nbformat": 4,
    "cells": [
        {
            "cell_type": "code",
            "source": [
                "%%capture\r\n",
                "from front_page_project import *\r\n",
                "from twitter_project import *"
            ],
            "metadata": {
                "azdata_cell_guid": "3b81fe57-7fe0-49fe-8440-16a6ca0b5bc1",
                "language": "python",
                "tags": []
            },
            "outputs": [],
            "execution_count": 14
        },
        {
            "cell_type": "code",
            "source": [
                "import sqlite3 as sql \r\n",
                "from config_wip import config"
            ],
            "metadata": {
                "language": "python",
                "azdata_cell_guid": "e9cd86e3-a7dc-4c05-a1b7-925450014756",
                "tags": []
            },
            "outputs": [],
            "execution_count": 2
        },
        {
            "cell_type": "code",
            "source": [
                "bearertoken=config['bear_token']\r\n",
                "headers = {'Authorization': 'Bearer ' +\r\n",
                "       bearertoken, 'Content-Type': 'application/json'}\r\n",
                "con = sql.connect(config['database'])\r\n",
                ""
            ],
            "metadata": {
                "language": "python",
                "azdata_cell_guid": "8bf7c85e-8df9-447d-bd11-dd1c59733b46",
                "tags": []
            },
            "outputs": [],
            "execution_count": 3
        },
        {
            "cell_type": "code",
            "source": [
                "#front_page_build_tables(con)"
            ],
            "metadata": {
                "language": "python",
                "azdata_cell_guid": "93ce5537-ed64-4c2e-8ea5-49f8d03dde3e"
            },
            "outputs": [],
            "execution_count": 4
        },
        {
            "cell_type": "code",
            "source": [
                "%%capture\r\n",
                "run_front_page(con)"
            ],
            "metadata": {
                "language": "python",
                "azdata_cell_guid": "40ee08eb-ca01-4de3-8b1c-16b1c7a10258",
                "tags": []
            },
            "outputs": [],
            "execution_count": 5
        },
        {
            "cell_type": "code",
            "source": [
                "%%capture\r\n",
                "text_vadar_nea(con)"
            ],
            "metadata": {
                "language": "python",
                "azdata_cell_guid": "82456c6e-8a72-4764-a0f8-1aa51d5fc53d"
            },
            "outputs": [],
            "execution_count": 4
        },
        {
            "cell_type": "code",
            "source": [
                "con.close()"
            ],
            "metadata": {
                "language": "python",
                "azdata_cell_guid": "a7e2adf9-6cf6-4211-887c-b381b20a9317"
            },
            "outputs": [],
            "execution_count": 5
        },
        {
            "cell_type": "code",
            "source": [
                "tokens = nltk.word_tokenize('museum and')\r\n",
                "tag = nltk.pos_tag(tokens)\r\n",
                "grammar  = 'CHUNK: {<N.*><V.*>}'\r\n",
                "cp = nltk.RegexpParser(grammar)\r\n",
                "result = cp.parse(tag)\r\n",
                "for subtree in result.subtrees():\r\n",
                "    if subtree.label() == 'CHUNK': print(subtree)"
            ],
            "metadata": {
                "language": "python",
                "azdata_cell_guid": "fe6d7f3b-27d1-4ae1-a80d-cb8b57e2bd43"
            },
            "outputs": [],
            "execution_count": 107
        },
        {
            "cell_type": "code",
            "source": [
                "result"
            ],
            "metadata": {
                "language": "python",
                "azdata_cell_guid": "2e4b773b-50d1-43a0-a0d3-d1af5a2a9d44"
            },
            "outputs": [
                {
                    "data": {
                        "text/plain": "Tree('S', [('museum', 'NN'), ('and', 'CC')])",
                        "image/svg+xml": "<svg baseProfile=\"full\" height=\"120px\" preserveAspectRatio=\"xMidYMid meet\" style=\"font-family: times, serif; font-weight:normal; font-style: normal; font-size: 16px;\" version=\"1.1\" viewBox=\"0,0,104.0,120.0\" width=\"104px\" xmlns=\"http://www.w3.org/2000/svg\" xmlns:ev=\"http://www.w3.org/2001/xml-events\" xmlns:xlink=\"http://www.w3.org/1999/xlink\"><defs /><svg width=\"100%\" x=\"0\" y=\"0em\"><defs /><text text-anchor=\"middle\" x=\"50%\" y=\"1em\">S</text></svg><svg width=\"61.5385%\" x=\"0%\" y=\"3em\"><defs /><svg width=\"100%\" x=\"0\" y=\"0em\"><defs /><text text-anchor=\"middle\" x=\"50%\" y=\"1em\">museum</text></svg><svg width=\"100%\" x=\"0%\" y=\"3em\"><defs /><svg width=\"100%\" x=\"0\" y=\"0em\"><defs /><text text-anchor=\"middle\" x=\"50%\" y=\"1em\">NN</text></svg></svg><line stroke=\"black\" x1=\"50%\" x2=\"50%\" y1=\"1.2em\" y2=\"3em\" /></svg><line stroke=\"black\" x1=\"50%\" x2=\"30.7692%\" y1=\"1.2em\" y2=\"3em\" /><svg width=\"38.4615%\" x=\"61.5385%\" y=\"3em\"><defs /><svg width=\"100%\" x=\"0\" y=\"0em\"><defs /><text text-anchor=\"middle\" x=\"50%\" y=\"1em\">and</text></svg><svg width=\"100%\" x=\"0%\" y=\"3em\"><defs /><svg width=\"100%\" x=\"0\" y=\"0em\"><defs /><text text-anchor=\"middle\" x=\"50%\" y=\"1em\">CC</text></svg></svg><line stroke=\"black\" x1=\"50%\" x2=\"50%\" y1=\"1.2em\" y2=\"3em\" /></svg><line stroke=\"black\" x1=\"50%\" x2=\"80.7692%\" y1=\"1.2em\" y2=\"3em\" /></svg>"
                    },
                    "metadata": {},
                    "execution_count": 108,
                    "output_type": "execute_result"
                }
            ],
            "execution_count": 108
        },
        {
            "cell_type": "code",
            "source": [
                ""
            ],
            "metadata": {
                "language": "python",
                "azdata_cell_guid": "2cb05f47-181b-4a26-85c4-0afd076c7434",
                "tags": []
            },
            "outputs": [],
            "execution_count": 109
        }
    ]
}